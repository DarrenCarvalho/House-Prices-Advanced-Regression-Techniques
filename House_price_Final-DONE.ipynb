{
 "cells": [
  {
   "cell_type": "code",
   "execution_count": null,
   "metadata": {},
   "outputs": [],
   "source": [
    "import numpy as np\n",
    "import pandas as pd\n",
    "import matplotlib.pyplot as plt"
   ]
  },
  {
   "cell_type": "code",
   "execution_count": null,
   "metadata": {},
   "outputs": [],
   "source": [
    "df = pd.read_csv(r'E:\\Python Projects\\Machine Learning\\House pricing\\Advanced House kaggle\\test.csv')"
   ]
  },
  {
   "cell_type": "code",
   "execution_count": null,
   "metadata": {},
   "outputs": [],
   "source": [
    "col_names = list(df.columns)"
   ]
  },
  {
   "cell_type": "code",
   "execution_count": null,
   "metadata": {},
   "outputs": [],
   "source": [
    "numerical = [feature for feature in col_names if df[feature].dtypes != 'O' and feature != 'Id']"
   ]
  },
  {
   "cell_type": "code",
   "execution_count": null,
   "metadata": {},
   "outputs": [],
   "source": [
    "categorical = [feature for feature in col_names if feature not in numerical]"
   ]
  },
  {
   "cell_type": "markdown",
   "metadata": {},
   "source": [
    "## Numerical Variable  - Descrete (unique val count < 25), Continous "
   ]
  },
  {
   "cell_type": "code",
   "execution_count": null,
   "metadata": {},
   "outputs": [],
   "source": [
    "descrete = [feature for feature in numerical if len(df[feature].unique())<25]"
   ]
  },
  {
   "cell_type": "code",
   "execution_count": null,
   "metadata": {},
   "outputs": [],
   "source": [
    "for feature in descrete:\n",
    "    print(feature,':',len(df[feature].unique()),':',df[feature].isna().sum())"
   ]
  },
  {
   "cell_type": "code",
   "execution_count": null,
   "metadata": {},
   "outputs": [],
   "source": [
    "for feature in descrete:\n",
    "    df[feature].fillna(df[feature].median(),inplace=True)"
   ]
  },
  {
   "cell_type": "markdown",
   "metadata": {},
   "source": [
    "### There are no null values in the descrete numerical features"
   ]
  },
  {
   "cell_type": "code",
   "execution_count": null,
   "metadata": {},
   "outputs": [],
   "source": [
    "continous = [feature for feature in numerical if feature not in descrete]"
   ]
  },
  {
   "cell_type": "code",
   "execution_count": null,
   "metadata": {},
   "outputs": [],
   "source": [
    "# Null values in continous\n",
    "null_val_continous = [feature for feature in continous if df[feature].isna().sum()>1]"
   ]
  },
  {
   "cell_type": "code",
   "execution_count": null,
   "metadata": {},
   "outputs": [],
   "source": [
    "for feature in null_val_continous:\n",
    "    print(feature,df[feature].isna().sum())"
   ]
  },
  {
   "cell_type": "markdown",
   "metadata": {},
   "source": [
    "### ['LotFrontage', 'MasVnrArea', 'GarageYrBlt'] have null values so check for corelation with the continous numerical variables"
   ]
  },
  {
   "cell_type": "code",
   "execution_count": null,
   "metadata": {},
   "outputs": [],
   "source": [
    "# Correlation between continous features\n",
    "corr_continous = df[continous].corr()"
   ]
  },
  {
   "cell_type": "code",
   "execution_count": null,
   "metadata": {},
   "outputs": [],
   "source": [
    "corr_continous.loc['GarageYrBlt'].sort_values(ascending = False)"
   ]
  },
  {
   "cell_type": "markdown",
   "metadata": {},
   "source": [
    "### GarageYrBlt and YrBuilt have a positive corelation  YearBuilt   0.825667 can apply linear model\n",
    "         Fit linear model and predict the null values and then update the dataframe"
   ]
  },
  {
   "cell_type": "code",
   "execution_count": null,
   "metadata": {},
   "outputs": [],
   "source": [
    "def lm_imputation(df,x,y):\n",
    "    # Get the missing indices \n",
    "    y_missing_index = df[df[y].isnull()].index.tolist()\n",
    "    \n",
    "    # convert feature and target to numpy array and drop missing indices in both\n",
    "    \n",
    "    x_numpy = df[x].to_numpy().reshape(-1,1)\n",
    "    x_final = np.delete(x_numpy,y_missing_index).reshape(-1,1)\n",
    "    \n",
    "    y_numpy = df[y].to_numpy().reshape(-1,1)\n",
    "    y_final = np.delete(y_numpy,y_missing_index).reshape(-1,1)\n",
    "    \n",
    "    #Fit linear model and predict outcome and place in dataframe\n",
    "    lm = LinearRegression()\n",
    "    lm.fit(x_final,y_final)\n",
    "    \n",
    "    pred = x_numpy[y_missing_index]\n",
    "    \n",
    "    missing_imputed = np.round(lm.predict(pred),0).reshape(-1,1)\n",
    "    \n",
    "    df.loc[df[y].isnull(),y] = missing_imputed"
   ]
  },
  {
   "cell_type": "code",
   "execution_count": null,
   "metadata": {},
   "outputs": [],
   "source": [
    "from sklearn.linear_model import LinearRegression\n",
    "x = 'YearBuilt'\n",
    "y = 'GarageYrBlt'\n",
    "lm_imputation(df,x,y)"
   ]
  },
  {
   "cell_type": "markdown",
   "metadata": {},
   "source": [
    "### Since  'LotFrontage' and 'MasVnrArea' have no relations with other varaible impute with median as there are outliers"
   ]
  },
  {
   "cell_type": "code",
   "execution_count": null,
   "metadata": {},
   "outputs": [],
   "source": [
    "df['LotFrontage'].fillna(df['LotFrontage'].median(),inplace = True)"
   ]
  },
  {
   "cell_type": "code",
   "execution_count": null,
   "metadata": {},
   "outputs": [],
   "source": [
    "df['MasVnrArea'].fillna(df['MasVnrArea'].median(),inplace = True)"
   ]
  },
  {
   "cell_type": "markdown",
   "metadata": {},
   "source": [
    "### Check for normality in continous variables "
   ]
  },
  {
   "cell_type": "code",
   "execution_count": null,
   "metadata": {},
   "outputs": [],
   "source": [
    "import scipy.stats as stats"
   ]
  },
  {
   "cell_type": "code",
   "execution_count": null,
   "metadata": {},
   "outputs": [],
   "source": [
    "df1 = df.copy()"
   ]
  },
  {
   "cell_type": "code",
   "execution_count": null,
   "metadata": {},
   "outputs": [],
   "source": [
    "# Histogram and QQ Plot\n",
    "for feature in continous:\n",
    "    plt.figure(figsize=(15,6))\n",
    "    plt.subplot(1,2,1)\n",
    "    plt.hist(df[feature],bins = 25)\n",
    "    plt.title(feature)\n",
    "    \n",
    "    plt.subplot(1,2,2)\n",
    "    stats.probplot(df[feature],dist = 'norm',plot = plt)\n",
    "    plt.show()"
   ]
  },
  {
   "cell_type": "code",
   "execution_count": null,
   "metadata": {},
   "outputs": [],
   "source": [
    "# Log transformation Histogram plot and QQ plot\n",
    "for feature in continous:\n",
    "\n",
    "    plt.figure(figsize=(15,6))\n",
    "    plt.subplot(1,2,1)\n",
    "    plt.hist(np.log(df[feature]+1),bins = 25)\n",
    "    plt.title(feature)\n",
    "    \n",
    "    plt.subplot(1,2,2)\n",
    "    stats.probplot(df[feature],dist = 'norm',plot = plt)\n",
    "    plt.show()"
   ]
  },
  {
   "cell_type": "markdown",
   "metadata": {},
   "source": [
    "### Following features have been found to follow Gausian after log transformation"
   ]
  },
  {
   "cell_type": "code",
   "execution_count": null,
   "metadata": {},
   "outputs": [],
   "source": [
    "continous_log = ['LotFrontage','GarageArea','GrLivArea','1stFlrSF','TotalBsmtSF','LotArea']"
   ]
  },
  {
   "cell_type": "code",
   "execution_count": null,
   "metadata": {},
   "outputs": [],
   "source": [
    "for feature in continous_log:\n",
    "    df[feature] = np.log(df[feature]+1)"
   ]
  },
  {
   "cell_type": "code",
   "execution_count": null,
   "metadata": {},
   "outputs": [],
   "source": [
    "# Features that donot follow Gausian Distribution After Log Transformation\n",
    "continous_1 = [feature for feature in continous if feature not in continous_log]"
   ]
  },
  {
   "cell_type": "code",
   "execution_count": null,
   "metadata": {},
   "outputs": [],
   "source": [
    "# After Linear Reression on Missing data it was showing a float value and year cant be float\n",
    "df['GarageYrBlt'] = df['GarageYrBlt'].astype(int)"
   ]
  },
  {
   "cell_type": "code",
   "execution_count": null,
   "metadata": {},
   "outputs": [],
   "source": [
    "for feature in numerical:\n",
    "    df[feature].fillna(df[feature].median(),inplace=True)"
   ]
  },
  {
   "cell_type": "code",
   "execution_count": null,
   "metadata": {},
   "outputs": [],
   "source": [
    "df[numerical].isna().sum()"
   ]
  },
  {
   "cell_type": "markdown",
   "metadata": {},
   "source": [
    "# Numerical done now for categorical"
   ]
  },
  {
   "cell_type": "markdown",
   "metadata": {},
   "source": [
    "# Similar categorical - The ordinal ones which have same unique categories\n"
   ]
  },
  {
   "cell_type": "code",
   "execution_count": null,
   "metadata": {},
   "outputs": [],
   "source": [
    "# ordinal features that have similar unique values 'Fa','TA','Gd','Ex'\n",
    "\n",
    "similar_categorical = [feature for feature in categorical if 'Qual' in feature or 'Cond' in feature or 'QC' in feature\n",
    "                       or 'Qu' in feature and feature not in ['Condition1','Condition2','SaleCondition']]"
   ]
  },
  {
   "cell_type": "code",
   "execution_count": null,
   "metadata": {},
   "outputs": [],
   "source": [
    "# 3 Unwanted features also came so remove them\n",
    "\n",
    "similar_categorical = similar_categorical[2:len(similar_categorical)-1]"
   ]
  },
  {
   "cell_type": "code",
   "execution_count": null,
   "metadata": {},
   "outputs": [],
   "source": [
    "def ordinal_encoding(df, feature, sorted_list):\n",
    "    key_val_pair = {}\n",
    "    for i in range(len(sorted_list)):\n",
    "        key_val_pair[sorted_list[i]] = i+1\n",
    "    df[feature] = df[feature].map(key_val_pair)\n",
    "        "
   ]
  },
  {
   "cell_type": "code",
   "execution_count": null,
   "metadata": {},
   "outputs": [],
   "source": [
    "# Ordinal encoding for ordinal features with similar unique values\n",
    "\n",
    "uniq_sim_categorical = ['Fa','TA','Gd','Ex']\n",
    "for feature in similar_categorical:\n",
    "    ordinal_encoding(df,feature,uniq_sim_categorical)\n",
    "    "
   ]
  },
  {
   "cell_type": "code",
   "execution_count": null,
   "metadata": {},
   "outputs": [],
   "source": [
    "# ALL features in similar categorical NA IS 0\n",
    "for feature in similar_categorical:\n",
    "    df[feature].fillna(0, inplace = True)"
   ]
  },
  {
   "cell_type": "code",
   "execution_count": null,
   "metadata": {},
   "outputs": [],
   "source": [
    "df[similar_categorical].isna().sum()"
   ]
  },
  {
   "cell_type": "markdown",
   "metadata": {},
   "source": [
    "# Ordinal Categorical features other than similar ones\n",
    "           LotShape Utilities LandSlope BsmtExpo CentralAir GarrageFinish PavedDrive FenceQC"
   ]
  },
  {
   "cell_type": "code",
   "execution_count": null,
   "metadata": {},
   "outputs": [],
   "source": [
    "df.shape"
   ]
  },
  {
   "cell_type": "code",
   "execution_count": null,
   "metadata": {},
   "outputs": [],
   "source": [
    "# ord_categorical = ordinalcategorical\n",
    "ord_categorical = ['LotShape', 'Utilities','LandSlope','BsmtExposure',\n",
    "                   'BsmtFinType1','BsmtFinType2','CentralAir','GarageFinish','PavedDrive','Fence']"
   ]
  },
  {
   "cell_type": "code",
   "execution_count": null,
   "metadata": {},
   "outputs": [],
   "source": [
    "# get unique values and sort them for encoding\n",
    "\n",
    "for feature in ord_categorical:\n",
    "    print(feature, df[feature].unique(), df[feature].isna().sum())"
   ]
  },
  {
   "cell_type": "markdown",
   "metadata": {},
   "source": [
    "# arrange the ordinal features in order ( bad .... good) and run function ordinal encoding on it¶"
   ]
  },
  {
   "cell_type": "code",
   "execution_count": null,
   "metadata": {},
   "outputs": [],
   "source": [
    "lotshape = ['Reg','IR1','IR2','IR3'][::-1]\n",
    "ordinal_encoding(df,'LotShape',lotshape)\n",
    "\n",
    "utilities = ['NoSeWa','AllPub']\n",
    "ordinal_encoding(df,'Utilities',utilities)\n",
    "\n",
    "landslope = ['Gtl','Mod','Sev'][::-1]\n",
    "ordinal_encoding(df,'LandSlope',landslope)\n",
    "\n",
    "bsmtexposure = ['No','Mn','Av','Gd']\n",
    "ordinal_encoding(df,'BsmtExposure',bsmtexposure)\n",
    "\n",
    "bsmtfintype1 = ['Unf','LwQ','Rec','BLQ','ALQ','GLQ']\n",
    "ordinal_encoding(df,'BsmtFinType1',bsmtfintype1)\n",
    "\n",
    "bsmtfintype2 = ['Unf','LwQ','Rec','BLQ','ALQ','GLQ']\n",
    "ordinal_encoding(df,'BsmtFinType2',bsmtfintype2)\n",
    "\n",
    "centralair = ['N','Y']\n",
    "ordinal_encoding(df,'CentralAir',centralair)\n",
    "\n",
    "garagefinish = ['Unf','RFn','Fin']\n",
    "ordinal_encoding(df,'GarageFinish',garagefinish)\n",
    "\n",
    "paveddrive = ['N','P','Y']\n",
    "ordinal_encoding(df,'PavedDrive',paveddrive)\n",
    "\n",
    "fence = ['MnWw','GdWo','MnPrv','GdPrv' ]\n",
    "ordinal_encoding(df,'Fence',fence)"
   ]
  },
  {
   "cell_type": "code",
   "execution_count": null,
   "metadata": {},
   "outputs": [],
   "source": [
    "# ALL features in similar categorical NA IS 0\n",
    "for feature in ord_categorical:\n",
    "    df[feature].fillna(0, inplace = True)"
   ]
  },
  {
   "cell_type": "code",
   "execution_count": null,
   "metadata": {},
   "outputs": [],
   "source": [
    "df[ord_categorical].isna().sum()"
   ]
  },
  {
   "cell_type": "markdown",
   "metadata": {},
   "source": [
    "# ALL ORDINAL FEATURES¶"
   ]
  },
  {
   "cell_type": "code",
   "execution_count": null,
   "metadata": {},
   "outputs": [],
   "source": [
    "df1 = df.copy()"
   ]
  },
  {
   "cell_type": "code",
   "execution_count": null,
   "metadata": {},
   "outputs": [],
   "source": [
    "# all ordinal features \n",
    "ordinal_features = similar_categorical+ord_categorical"
   ]
  },
  {
   "cell_type": "markdown",
   "metadata": {},
   "source": [
    "## All nominal features and multi categories nominal features "
   ]
  },
  {
   "cell_type": "code",
   "execution_count": null,
   "metadata": {},
   "outputs": [],
   "source": [
    "# Multi categorical features which have unique values > 10\n",
    "categorical_multi = ['Neighborhood','Exterior1st','Exterior2nd']"
   ]
  },
  {
   "cell_type": "code",
   "execution_count": null,
   "metadata": {},
   "outputs": [],
   "source": [
    "######################\n",
    "# Storing the multiple categorical features in another variable\n",
    "categorical_1 = [feature for feature in col_names if df1[feature].dtypes == 'O' and feature != 'MiscFeature'\n",
    "               and feature not in ['Neighborhood','Exterior1st','Exterior2nd']]"
   ]
  },
  {
   "cell_type": "code",
   "execution_count": null,
   "metadata": {},
   "outputs": [],
   "source": [
    "def multi_categorical_encoding(data,feature):\n",
    "    top_10 = data[feature].value_counts().sort_values(ascending = False).index\n",
    "    top_10 = top_10[0:10]\n",
    "    for index in (top_10):\n",
    "        data[index] = np.where(data[feature] == index,1,0)"
   ]
  },
  {
   "cell_type": "code",
   "execution_count": null,
   "metadata": {},
   "outputs": [],
   "source": [
    "for feature in categorical_multi:\n",
    "    multi_categorical_encoding(df1,feature)"
   ]
  },
  {
   "cell_type": "code",
   "execution_count": null,
   "metadata": {},
   "outputs": [],
   "source": [
    "for feature in categorical_multi:\n",
    "    df1.drop([feature],axis=1,inplace=True)"
   ]
  },
  {
   "cell_type": "markdown",
   "metadata": {},
   "source": [
    "## For Remaining CATEGORICAL Features label Encoding"
   ]
  },
  {
   "cell_type": "code",
   "execution_count": null,
   "metadata": {},
   "outputs": [],
   "source": [
    "# Drop because it has 95% Missing Values\n",
    "df1.drop(['MiscFeature'],axis=1,inplace=True)"
   ]
  },
  {
   "cell_type": "code",
   "execution_count": null,
   "metadata": {},
   "outputs": [],
   "source": [
    "col_names_df1 = df1.columns.tolist()"
   ]
  },
  {
   "cell_type": "code",
   "execution_count": null,
   "metadata": {},
   "outputs": [],
   "source": [
    "df1_categorical = [feature for feature in col_names_df1 if df1[feature].dtypes == 'O']"
   ]
  },
  {
   "cell_type": "code",
   "execution_count": null,
   "metadata": {},
   "outputs": [],
   "source": [
    "for feature in df1_categorical:\n",
    "    print(feature,df1[feature].isna().sum())"
   ]
  },
  {
   "cell_type": "code",
   "execution_count": null,
   "metadata": {},
   "outputs": [],
   "source": [
    "# 0 Means non existance of an item like NA Alley.. and string '0' because LabelEncoding needs entire string or int\n",
    "for feature in col_names_df1:\n",
    "    df1[feature].fillna('0',inplace=True)"
   ]
  },
  {
   "cell_type": "code",
   "execution_count": null,
   "metadata": {},
   "outputs": [],
   "source": [
    "from sklearn.preprocessing import LabelEncoder\n",
    "le = LabelEncoder()"
   ]
  },
  {
   "cell_type": "code",
   "execution_count": null,
   "metadata": {},
   "outputs": [],
   "source": [
    "for feature in df1_categorical:\n",
    "    df1[feature]=le.fit_transform(df1[feature])"
   ]
  },
  {
   "cell_type": "code",
   "execution_count": null,
   "metadata": {},
   "outputs": [],
   "source": [
    "df1.to_csv('C:\\\\Users\\\\test\\\\Desktop\\\\test1.csv')"
   ]
  }
 ],
 "metadata": {
  "kernelspec": {
   "display_name": "Python 3",
   "language": "python",
   "name": "python3"
  },
  "language_info": {
   "codemirror_mode": {
    "name": "ipython",
    "version": 3
   },
   "file_extension": ".py",
   "mimetype": "text/x-python",
   "name": "python",
   "nbconvert_exporter": "python",
   "pygments_lexer": "ipython3",
   "version": "3.7.7"
  }
 },
 "nbformat": 4,
 "nbformat_minor": 4
}
